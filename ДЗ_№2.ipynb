{
  "nbformat": 4,
  "nbformat_minor": 0,
  "metadata": {
    "colab": {
      "provenance": []
    },
    "kernelspec": {
      "name": "python3",
      "display_name": "Python 3"
    },
    "language_info": {
      "name": "python"
    }
  },
  "cells": [
    {
      "cell_type": "markdown",
      "source": [
        "# Структуры. Функции"
      ],
      "metadata": {
        "id": "1jPReH5d8bSh"
      }
    },
    {
      "cell_type": "markdown",
      "source": [
        "**Задание 1.** Напишите функцию для нахождения площади круга.\n",
        "\n",
        "Напомним, что площадь круга вычисляется по следующей формуле\n",
        "$$S = \\pi r^2,$$\n",
        "где $r$ -- радиус круга.\n",
        "\n",
        "Формат выполнения задания:\n",
        "\n",
        "```python\n",
        "#определение функции\n",
        "def f.....\n",
        "\n",
        "#вызов функции и результат ее работы\n",
        "f(1)\n",
        "Площадь круга радиуса 1 равна 3.14 кв.ед.\n",
        "```\n",
        "\n"
      ],
      "metadata": {
        "id": "0SOwEuW08pIX"
      }
    },
    {
      "cell_type": "code",
      "source": [
        "#ваш код здесь\n",
        "import math"
      ],
      "metadata": {
        "id": "teyrAJVC8bCI"
      },
      "execution_count": 1,
      "outputs": []
    },
    {
      "cell_type": "code",
      "source": [
        "# 1 вариант с помощью переменных:\n",
        "def foo(r = float(input())):\n",
        "  p = 3.14\n",
        "  print(f'Площадь круга радиусa круга {r} равна {p * r**2} кв.ед.')\n",
        "\n",
        "foo()"
      ],
      "metadata": {
        "colab": {
          "base_uri": "https://localhost:8080/"
        },
        "id": "IAQ8t747jyjp",
        "outputId": "7d9d65e2-6e92-437d-fccd-a7fda01efff9"
      },
      "execution_count": 107,
      "outputs": [
        {
          "name": "stdout",
          "output_type": "stream",
          "text": [
            "2\n"
          ]
        },
        {
          "output_type": "execute_result",
          "data": {
            "text/plain": [
              "<function __main__.foo(r=2.0)>"
            ]
          },
          "metadata": {},
          "execution_count": 107
        }
      ]
    },
    {
      "cell_type": "code",
      "source": [
        "# 2 вариант с помощью библеотеки math:\n",
        "def foo(r = float(input())):\n",
        "  print(f'Площадь круга радиусa круга {r} равна {round(math.pi * r**2,2)} кв.ед.')\n",
        "\n",
        "foo()"
      ],
      "metadata": {
        "colab": {
          "base_uri": "https://localhost:8080/"
        },
        "id": "j--6cRIvtL2a",
        "outputId": "dcb79134-8d8c-46c9-82f0-f6588d965d38"
      },
      "execution_count": 79,
      "outputs": [
        {
          "output_type": "stream",
          "name": "stdout",
          "text": [
            "2\n",
            "Площадь круга радиусa круга 2.0 равна 12.57 кв.ед.\n"
          ]
        }
      ]
    },
    {
      "cell_type": "markdown",
      "source": [
        "Задание 2. Напишите функцию для нахождения суммы `n` элементов списка.  Если `n` не задано, то функция должна возвращать сумму всех элементов списка. Список значений и `n` задаются пользователем произвольно (либо через клавиатуру, либо через переменные).\n",
        "\n",
        "Формат выполнения задания:\n",
        "\n",
        "```python\n",
        "#определение функции\n",
        "def s.....\n",
        "\n",
        "#вызов функции и результат ее работы\n",
        "list_example = range(-10, 10)\n",
        "n = 2\n",
        "s(list_example, n)\n",
        "Сумма элементов -10, -9 равна -19.\n",
        "\n",
        "s(list_example)\n",
        "Сумма всех элементов списка равна -10.\n",
        "```\n"
      ],
      "metadata": {
        "id": "BQP8xMfH-IBu"
      }
    },
    {
      "cell_type": "code",
      "source": [
        "#список с клавиатуры\n",
        "def sum_limits(lst, n=None) -> float:\n",
        "    if n is None:\n",
        "        return sum(lst)\n",
        "    else:\n",
        "        return sum(lst[:n])\n",
        "lst = list(range(-10, 10))  # Преобразуем диапазон в список\n",
        "user_input = input(\"Введите количество элементов (или оставьте пустым для суммы всех элементов): \")\n",
        "if user_input.strip():  # Проверяем, введено ли что-то пользователем\n",
        "   n = int(user_input)\n",
        "else:\n",
        "   n = None\n",
        "\n",
        "result = sum_limits(lst, n)\n",
        "print(result)\n",
        "print(-10+-9-8-7-6-5-4-3-2-1+0+1+2+3+4+5+6+7+8+9) #проверка"
      ],
      "metadata": {
        "id": "KeIvINa2_xRJ",
        "colab": {
          "base_uri": "https://localhost:8080/"
        },
        "outputId": "03b0ccfb-48bd-449c-a9bb-2e6b802a2a4e"
      },
      "execution_count": 101,
      "outputs": [
        {
          "output_type": "stream",
          "name": "stdout",
          "text": [
            "Введите количество элементов (или оставьте пустым для суммы всех элементов): \n",
            "-10\n",
            "-10\n"
          ]
        }
      ]
    },
    {
      "cell_type": "markdown",
      "source": [
        "Задание 3. Пусть дан список элементов\n",
        "```python\n",
        "value = [12, 13, 2, 4, 13, 5, 6, 7, 8, 8, 8, 8, 8, 10]\n",
        "```\n",
        "Напишите функции для нахождения:\n",
        "- [выборочного среднего значения](https://ru.wikipedia.org/wiki/%D0%92%D1%8B%D0%B1%D0%BE%D1%80%D0%BE%D1%87%D0%BD%D0%BE%D0%B5_%D1%81%D1%80%D0%B5%D0%B4%D0%BD%D0%B5%D0%B5);\n",
        "- [медианы](https://ru.wikipedia.org/wiki/%D0%9C%D0%B5%D0%B4%D0%B8%D0%B0%D0%BD%D0%B0_(%D1%81%D1%82%D0%B0%D1%82%D0%B8%D1%81%D1%82%D0%B8%D0%BA%D0%B0));\n",
        "- [моды](https://ru.wikipedia.org/wiki/%D0%9C%D0%BE%D0%B4%D0%B0_(%D1%81%D1%82%D0%B0%D1%82%D0%B8%D1%81%D1%82%D0%B8%D0%BA%D0%B0)#:~:text=%D0%9C%D0%BE%CC%81%D0%B4%D0%B0%20%E2%80%94%20%D0%BE%D0%B4%D0%BD%D0%BE%20%D0%B8%D0%BB%D0%B8%20%D0%BD%D0%B5%D1%81%D0%BA%D0%BE%D0%BB%D1%8C%D0%BA%D0%BE%20%D0%B7%D0%BD%D0%B0%D1%87%D0%B5%D0%BD%D0%B8%D0%B9,%D0%BC%D0%BE%D0%B4%D0%B0%20%E2%80%94%206%20%D0%B8%209).\n",
        "\n",
        "Использовать встроенные методы для расчета указанных статистик **нельзя**.\n",
        "\n",
        "Формат выполнения задания:\n",
        "\n",
        "```python\n",
        "#определение функций\n",
        "def mean.....\n",
        "def median.....\n",
        "def mode.....\n",
        "\n",
        "#вызов функций и результат их работы\n",
        "value = [12, 13, 2, 4, 13, 5, 6, 7, 8, 8, 8, 8, 8, 10]\n",
        "mean(value)\n",
        "Выборочное среднее равно 8.0.\n",
        "```\n"
      ],
      "metadata": {
        "id": "Ymy10N8dAlrQ"
      }
    },
    {
      "cell_type": "code",
      "source": [
        "def mean(value):\n",
        "    total = sum(value)      # Вычисляем сумму всех элементов списка\n",
        "    count = len(value)     # Получаем количество элементов в списке\n",
        "    return total / count   # Возвращаем среднее значение (сумма / количество)\n",
        "\n",
        "def median(value):\n",
        "    sorted_value = sorted(value)         # Сортируем список\n",
        "    count = len(sorted_value)           # Получаем количество элементов в отсортированном списке\n",
        "\n",
        "    if count % 2 == 0:                  # Если количество элементов четное\n",
        "        middle1 = sorted_value[count // 2 - 1]   # Находим два средних элемента\n",
        "        middle2 = sorted_value[count // 2]\n",
        "        return (middle1 + middle2) / 2   # Возвращаем среднее значение двух средних элементов\n",
        "    else:\n",
        "        return sorted_value[count // 2]   # Возвращаем средний элемент, если количество элементов нечетное\n",
        "\n",
        "def mode(value):\n",
        "    counts = {}                         # Создаем пустой словарь для подсчета частоты встречаемости элементов\n",
        "    for num in value:\n",
        "        if num in counts:\n",
        "            counts[num] += 1            # Увеличиваем счетчик для встретившегося элемента\n",
        "        else:\n",
        "            counts[num] = 1             # Инициализируем счетчик для нового элемента\n",
        "\n",
        "    max_count = max(counts.values())    # Находим максимальное значение частоты\n",
        "    mode_values = [num for num, count in counts.items() if count == max_count]  # Ищем элементы с максимальной частотой\n",
        "    return mode_values                  # Возвращаем моду (может быть несколько значений)\n",
        "\n",
        "# Вызов функций и вывод результатов\n",
        "value = [12, 13, 2, 4, 13, 5, 6, 7, 8, 8, 8, 8, 8, 10]\n",
        "mean_result = mean(value)\n",
        "median_result = median(value)\n",
        "mode_result = mode(value)\n",
        "\n",
        "print(f\"Выборочное среднее равно {mean_result}.\")\n",
        "print(f\"Медиана равна {median_result}.\")\n",
        "print(f\"Мода равна {mode_result}.\")"
      ],
      "metadata": {
        "id": "003vzV47EOE-",
        "colab": {
          "base_uri": "https://localhost:8080/"
        },
        "outputId": "558e78d5-1d21-4a40-cafa-275e20ee2671"
      },
      "execution_count": 106,
      "outputs": [
        {
          "output_type": "stream",
          "name": "stdout",
          "text": [
            "Выборочное среднее равно 8.0.\n",
            "Медиана равна 8.0.\n",
            "Мода равна [8].\n"
          ]
        }
      ]
    },
    {
      "cell_type": "markdown",
      "source": [
        "Задание 4. Пусть общий доход складывается только из следующих источников: заработной платы, доходов по вкладам, дивидентов, пособия. Напишите функцию, рассчитывающую для Вас общий доход. Предполагается, что некоторых источников дохода у Вас может не быть. Попробуйте задать параметры в виде 1) кортежа; 2) словаря.\n",
        "\n",
        "\n",
        "Формат выполнения задания:\n",
        "\n",
        "```python\n",
        "#определение функций\n",
        "def income.....\n",
        "\n",
        "#вызов функциb и результат ее работы\n",
        "income(100)\n",
        "Общий доход равен 1000.\n",
        "\n",
        "income(100, 10)\n",
        "Общий доход равен 1010.\n",
        "```"
      ],
      "metadata": {
        "id": "9KvN_a0TDMUe"
      }
    },
    {
      "cell_type": "code",
      "source": [
        "#Ваш код здесь\n",
        "(10,18,13,20,40)\n",
        "def income(*args):\n",
        "    return sum(args)\n",
        "income(1,2,3,4,5)"
      ],
      "metadata": {
        "id": "adDyNSDGC7pP",
        "colab": {
          "base_uri": "https://localhost:8080/"
        },
        "outputId": "afd625f4-5fc5-44a4-e5dd-f079184a9189"
      },
      "execution_count": null,
      "outputs": [
        {
          "output_type": "execute_result",
          "data": {
            "text/plain": [
              "15"
            ]
          },
          "metadata": {},
          "execution_count": 27
        }
      ]
    },
    {
      "cell_type": "code",
      "source": [
        "def income(**kwargs):\n",
        "    kwargs.get('заработная плата')\n",
        "    return sum(kwargs.values())"
      ],
      "metadata": {
        "id": "RKz7fL-DHO1j"
      },
      "execution_count": null,
      "outputs": []
    },
    {
      "cell_type": "code",
      "source": [
        "z = {'заработная плата': 10,\n",
        "    'd': 11,\n",
        "    'c': 12,\n",
        "    'k': 13,\n",
        "     }"
      ],
      "metadata": {
        "id": "VZ_Vkm_GcATt"
      },
      "execution_count": null,
      "outputs": []
    },
    {
      "cell_type": "code",
      "source": [
        "income(**z)"
      ],
      "metadata": {
        "colab": {
          "base_uri": "https://localhost:8080/"
        },
        "id": "19DJ_qfJciba",
        "outputId": "ef6dc839-6aa3-46c1-ae0a-69b638be3cf3"
      },
      "execution_count": null,
      "outputs": [
        {
          "output_type": "execute_result",
          "data": {
            "text/plain": [
              "46"
            ]
          },
          "metadata": {},
          "execution_count": 35
        }
      ]
    }
  ]
}